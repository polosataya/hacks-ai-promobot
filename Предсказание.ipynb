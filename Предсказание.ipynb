{
 "cells": [
  {
   "cell_type": "code",
   "execution_count": 172,
   "id": "d4710436",
   "metadata": {},
   "outputs": [],
   "source": [
    "import pandas as pd\n",
    "import numpy as np\n",
    "from sklearn.model_selection import train_test_split, KFold, StratifiedKFold\n",
    "from sklearn.feature_extraction.text import TfidfVectorizer\n",
    "from sklearn.linear_model import LogisticRegression\n",
    "\n",
    "import joblib\n",
    "import emoji\n",
    "import re\n",
    "import nltk\n",
    "import spacy\n",
    "from spacy import displacy\n",
    "from annoy import AnnoyIndex\n",
    "from collections import Counter\n",
    "\n",
    "from tqdm.notebook import tqdm\n",
    "tqdm.pandas()"
   ]
  },
  {
   "cell_type": "code",
   "execution_count": 21,
   "id": "df3be0c0",
   "metadata": {},
   "outputs": [],
   "source": [
    "pathModel=\"model/\"\n",
    "\n",
    "def load_vectorizer(filename):\n",
    "    '''Функция для загрузки модели векторизатора'''\n",
    "    tfidf = TfidfVectorizer()\n",
    "    tfidf = joblib.load(pathModel+filename)\n",
    "    return tfidf\n",
    "\n",
    "def load_logreg(filename):\n",
    "    '''Функция для загрузки модели классификатора'''\n",
    "    logit = LogisticRegression()\n",
    "    logit = joblib.load(pathModel+filename)\n",
    "    return logit\n",
    "\n",
    "def load_stopwords():\n",
    "    ''' подготовка моделей обработки текста '''\n",
    "    nltk.download('stopwords')\n",
    "    stopwords_nltk = nltk.corpus.stopwords.words('russian') #лист русских стоп-слов\n",
    "    stopwords_nltk_en = nltk.corpus.stopwords.words('english')\n",
    "    stopwords_nltk.extend(stopwords_nltk_en) #часть текста на английском\n",
    "    new_stop = ['здравствовать', 'подсказать', 'сказать', \"пожалуйста\", \"спасибо\",  \"благодарить\", \"извинить\",\n",
    "                'вопрос', 'тема', \"ответ\", \"ответить\", \"почему\", \"что\", \"уважаемый\", \"нынче\", \"пжл\", \"анон\",\n",
    "                'которая', 'которой', 'которую', 'которые', 'который', 'которых', 'это', \"мочь\", \"её\",\n",
    "                \"нам\", \"наш\", \"всем\", \"здраствуйте\", \"типо\",\n",
    "                'вообще', \"всё\", \"весь\", \"ещё\", \"просто\",  \"якобы\", \"причём\", 'точно', \"хотя\", \"именно\", 'неужели',\n",
    "                \"т\",\"е\", \"п\", \"д\", \"г\", \"ул\", \"город\", \"улица\", \"br\", \"none\", \"https\", \"#\"]  #специфичные стоп-слов\n",
    "    stopwords_nltk.extend(new_stop)\n",
    "    return stopwords_nltk\n",
    "\n",
    "def load_nlp():\n",
    "    nlp = spacy.load('ru_core_news_md')\n",
    "    return nlp\n",
    "\n",
    "def load_upload(uploaded_file):\n",
    "    try:\n",
    "        data = pd.read_csv(uploaded_file, sep=',')\n",
    "    except:\n",
    "        data = pd.read_csv(uploaded_file, sep=';')\n",
    "    return data"
   ]
  },
  {
   "cell_type": "code",
   "execution_count": 29,
   "id": "cb499901",
   "metadata": {},
   "outputs": [],
   "source": [
    "def full_clean(text):\n",
    "    '''очистка строки текста'''\n",
    "    text = emoji.demojize(text)\n",
    "    text=re.sub(r\"[^a-zA-Zа-яА-ЯёЁ0-9#]\", \" \", text)\n",
    "    text = text.lower()\n",
    "    text = re.sub(\" +\", \" \", text) #оставляем только 1 пробел\n",
    "    text = text.replace(\"добрый день\", \"\").replace(\"добрый вечер\", \"\").replace(\"доброе утро\", \"\").replace(\"сообщение без текста\", \"\").replace(\"да подтверждаю\", \"\").replace(\"до сих пор\", \"\")\n",
    "    text = text.strip()\n",
    "    #токены для моделей\n",
    "    tokens = [token.lemma_ for token in nlp(text) if token.lemma_ not in stopwords_nltk]\n",
    "    #для tfidf на вход текст\n",
    "    text = \" \".join(tokens)\n",
    "    return text, tokens\n",
    "\n",
    "def preprocess_text(df):\n",
    "    '''подготовка текста к подаче в модель колонкой'''\n",
    "    new_corpus = []\n",
    "    new_tokens = []\n",
    "\n",
    "    for text in tqdm(df):\n",
    "        text, tokens = full_clean(text)\n",
    "        new_corpus.append(text)\n",
    "        new_tokens.append(tokens)\n",
    "    return new_corpus, new_tokens\n",
    "\n",
    "# Функция для классификации данных\n",
    "def classify_data(logit, data):\n",
    "    ''' предсказание логистической регрессией для вектора предложения '''\n",
    "    return logit.predict(data)"
   ]
  },
  {
   "cell_type": "code",
   "execution_count": 30,
   "id": "0b6f9d97",
   "metadata": {},
   "outputs": [],
   "source": [
    "def tfidf_fit(train=None, test=None, tfidf=True, ngram_range=(1, 1), max_features=1000, save=False):\n",
    "    #на вход текст\n",
    "    #min_df : игнорируются термины, частота употребления которых строго ниже заданного порога.\n",
    "    #max_df : игнорируются термины, частота которых строго превышает заданный порог\n",
    "    if test:\n",
    "        data = pd.concat([train, test])\n",
    "    else:\n",
    "        data = train\n",
    "    if tfidf:        \n",
    "        model = TfidfVectorizer(ngram_range=(1, 1), max_features=max_features, analyzer='word', #max_df = 0.9,\n",
    "                            lowercase = False, sublinear_tf=True)\n",
    "    else:\n",
    "        model = CountVectorizer(max_features=max_features) \n",
    "    #тренировка\n",
    "    model.fit(data)\n",
    "    #feature_names = model.get_feature_names_out()\n",
    "    \n",
    "    #сохранение натренированной модели для приложения\n",
    "    if save:\n",
    "        joblib.dump(model, 'tfidf.pkl') \n",
    "        \n",
    "    return model\n",
    "\n",
    "def tfidf_embeding(model=None, df=None):\n",
    "    '''Преобразование текста в мешок слов'''\n",
    "    X = model.transform(df)\n",
    "    return X.toarray()"
   ]
  },
  {
   "cell_type": "code",
   "execution_count": 170,
   "id": "71aaed3d",
   "metadata": {},
   "outputs": [],
   "source": [
    "def index_annoy(X_train_part):\n",
    "    #построение индекса\n",
    "    #\"angular\", \"euclidean\", \"manhattan\", \"hamming\", or \"dot\" 384 768 1024\n",
    "    #emb_len = X_train_part.shape[1]\n",
    "    emb_len=len(X_train_part[0])\n",
    "    t = AnnoyIndex(emb_len, metric = 'angular')\n",
    "\n",
    "    # train['id'], \n",
    "    for user_id, user_embedding in enumerate(X_train_part):\n",
    "        t.add_item(user_id, user_embedding)\n",
    "    t.build(-1)\n",
    "    \n",
    "    return t\n",
    "\n",
    "def predict_nns_(t, X_valid, count=1):\n",
    "    #через apply\n",
    "    idx = t.get_nns_by_vector(X_valid, count, search_k=-1)  \n",
    "    return train_part[idx].values[0]\n",
    "\n",
    "def predict_nns(t, X_valid, y_train_part, count=1):\n",
    "    #для массива срезу\n",
    "    predict=[]\n",
    "    for emb in tqdm(X_valid):\n",
    "        if count==1:\n",
    "            idx = t.get_nns_by_vector(emb, count, search_k=-1) \n",
    "            predict.append(y_train_part[idx[0]])\n",
    "        elif count==3:\n",
    "            x=[y_train_part[idx[0]], y_train_part[idx[1]], y_train_part[idx[2]]]\n",
    "            predict.append(Counter(x).most_common()[0][0])\n",
    "    return predict"
   ]
  },
  {
   "cell_type": "code",
   "execution_count": 151,
   "id": "2dd8b92b",
   "metadata": {},
   "outputs": [],
   "source": [
    "def postpredict(model, t, X_valid, y_train_part, lim=0.1):\n",
    "    #если уверенность в метке низкая ииспользуем другой классификатор\n",
    "    \n",
    "    #t = index_annoy(X_train_part)\n",
    "    logit_class = list(model.classes_)\n",
    "    \n",
    "    model_valid = model.predict(X_valid)\n",
    "    model_valid_ = model.predict_proba(X_valid)\n",
    "    \n",
    "    scores = []\n",
    "    model_valid_new=[]\n",
    "    lim=lim\n",
    "    for i in range(len(model_valid)):\n",
    "        #класс, вероятность\n",
    "        #print(model_valid[i], model_valid_[i][logit_class.index(model_valid[i])])\n",
    "        score = model_valid_[i][logit_class.index(model_valid[i])]\n",
    "        scores.append(score)\n",
    "        if score >= lim:\n",
    "            model_valid_new.append(model_valid[i])\n",
    "        elif score < lim:\n",
    "            idx = t.get_nns_by_vector(X_valid[i], 1, search_k=-1)[0] \n",
    "            model_valid_new.append(y_train_part[idx])\n",
    "            #model_valid_new.append(catc.predict(X_valid[i])[0])\n",
    "            \n",
    "    return model_valid_new"
   ]
  },
  {
   "cell_type": "code",
   "execution_count": 22,
   "id": "24ef2ebc",
   "metadata": {},
   "outputs": [
    {
     "name": "stderr",
     "output_type": "stream",
     "text": [
      "[nltk_data] Downloading package stopwords to /home/tanya/nltk_data...\n",
      "[nltk_data]   Package stopwords is already up-to-date!\n"
     ]
    }
   ],
   "source": [
    "tfidf = load_vectorizer('tfidf.pkl')\n",
    "logit_group = load_logreg(\"logit_group.sav\")\n",
    "logit_title = load_logreg(\"logit_title.sav\")\n",
    "logit_otdel = load_logreg(\"logit_otdel.sav\")\n",
    "stopwords_nltk = load_stopwords()\n",
    "nlp = load_nlp()"
   ]
  },
  {
   "cell_type": "markdown",
   "id": "d36ea451",
   "metadata": {},
   "source": [
    "Загрузим и предобработаем тренировочные данные"
   ]
  },
  {
   "cell_type": "code",
   "execution_count": 25,
   "id": "5798a3c1",
   "metadata": {},
   "outputs": [
    {
     "data": {
      "application/vnd.jupyter.widget-view+json": {
       "model_id": "b814a8bd994443fd94e07f82e7f2c46f",
       "version_major": 2,
       "version_minor": 0
      },
      "text/plain": [
       "  0%|          | 0/23128 [00:00<?, ?it/s]"
      ]
     },
     "metadata": {},
     "output_type": "display_data"
    },
    {
     "data": {
      "text/html": [
       "<div>\n",
       "<style scoped>\n",
       "    .dataframe tbody tr th:only-of-type {\n",
       "        vertical-align: middle;\n",
       "    }\n",
       "\n",
       "    .dataframe tbody tr th {\n",
       "        vertical-align: top;\n",
       "    }\n",
       "\n",
       "    .dataframe thead th {\n",
       "        text-align: right;\n",
       "    }\n",
       "</style>\n",
       "<table border=\"1\" class=\"dataframe\">\n",
       "  <thead>\n",
       "    <tr style=\"text-align: right;\">\n",
       "      <th></th>\n",
       "      <th>Исполнитель</th>\n",
       "      <th>Группа тем</th>\n",
       "      <th>Текст инцидента</th>\n",
       "      <th>Тема</th>\n",
       "      <th>text_clean</th>\n",
       "      <th>tokens</th>\n",
       "    </tr>\n",
       "  </thead>\n",
       "  <tbody>\n",
       "    <tr>\n",
       "      <th>0</th>\n",
       "      <td>Лысьвенский городской округ</td>\n",
       "      <td>Благоустройство</td>\n",
       "      <td>'Добрый день. Сегодня, 20.08.22, моя мать шла ...</td>\n",
       "      <td>★ Ямы во дворах</td>\n",
       "      <td>сегодня 20 08 22 мать идти ленин дом 96 94 фон...</td>\n",
       "      <td>[сегодня, 20, 08, 22, мать, идти, ленин, дом, ...</td>\n",
       "    </tr>\n",
       "    <tr>\n",
       "      <th>1</th>\n",
       "      <td>Министерство социального развития ПК</td>\n",
       "      <td>Социальное обслуживание и защита</td>\n",
       "      <td>'Пермь г, +79194692145. В Перми с ноября 2021 ...</td>\n",
       "      <td>Оказание гос. соц. помощи</td>\n",
       "      <td>пермь 79194692145 пермь ноябрь 2021 год работа...</td>\n",
       "      <td>[пермь, 79194692145, пермь, ноябрь, 2021, год,...</td>\n",
       "    </tr>\n",
       "    <tr>\n",
       "      <th>2</th>\n",
       "      <td>Министерство социального развития ПК</td>\n",
       "      <td>Социальное обслуживание и защита</td>\n",
       "      <td>'Добрый день ! Скажите пожалуйста если подовал...</td>\n",
       "      <td>Дети и многодетные семьи</td>\n",
       "      <td>подовала пособие 3 7 2 декабрь повторно подать...</td>\n",
       "      <td>[подовала, пособие, 3, 7, 2, декабрь, повторно...</td>\n",
       "    </tr>\n",
       "    <tr>\n",
       "      <th>3</th>\n",
       "      <td>Город Пермь</td>\n",
       "      <td>Общественный транспорт</td>\n",
       "      <td>'Каждая из них не о чем. Люди на остановках хо...</td>\n",
       "      <td>Содержание остановок</td>\n",
       "      <td>каждый человек остановка хотеть укрыться непог...</td>\n",
       "      <td>[каждый, человек, остановка, хотеть, укрыться,...</td>\n",
       "    </tr>\n",
       "    <tr>\n",
       "      <th>4</th>\n",
       "      <td>Министерство здравоохранения</td>\n",
       "      <td>Здравоохранение/Медицина</td>\n",
       "      <td>'В Березниках у сына привитого откоронавируса ...</td>\n",
       "      <td>Технические проблемы с записью на прием к врачу</td>\n",
       "      <td>березниках сын привитого откоронавируса заболе...</td>\n",
       "      <td>[березниках, сын, привитого, откоронавируса, з...</td>\n",
       "    </tr>\n",
       "  </tbody>\n",
       "</table>\n",
       "</div>"
      ],
      "text/plain": [
       "                            Исполнитель                        Группа тем  \\\n",
       "0           Лысьвенский городской округ                   Благоустройство   \n",
       "1  Министерство социального развития ПК  Социальное обслуживание и защита   \n",
       "2  Министерство социального развития ПК  Социальное обслуживание и защита   \n",
       "3                           Город Пермь            Общественный транспорт   \n",
       "4          Министерство здравоохранения          Здравоохранение/Медицина   \n",
       "\n",
       "                                     Текст инцидента  \\\n",
       "0  'Добрый день. Сегодня, 20.08.22, моя мать шла ...   \n",
       "1  'Пермь г, +79194692145. В Перми с ноября 2021 ...   \n",
       "2  'Добрый день ! Скажите пожалуйста если подовал...   \n",
       "3  'Каждая из них не о чем. Люди на остановках хо...   \n",
       "4  'В Березниках у сына привитого откоронавируса ...   \n",
       "\n",
       "                                              Тема  \\\n",
       "0                                  ★ Ямы во дворах   \n",
       "1                        Оказание гос. соц. помощи   \n",
       "2                         Дети и многодетные семьи   \n",
       "3                             Содержание остановок   \n",
       "4  Технические проблемы с записью на прием к врачу   \n",
       "\n",
       "                                          text_clean  \\\n",
       "0  сегодня 20 08 22 мать идти ленин дом 96 94 фон...   \n",
       "1  пермь 79194692145 пермь ноябрь 2021 год работа...   \n",
       "2  подовала пособие 3 7 2 декабрь повторно подать...   \n",
       "3  каждый человек остановка хотеть укрыться непог...   \n",
       "4  березниках сын привитого откоронавируса заболе...   \n",
       "\n",
       "                                              tokens  \n",
       "0  [сегодня, 20, 08, 22, мать, идти, ленин, дом, ...  \n",
       "1  [пермь, 79194692145, пермь, ноябрь, 2021, год,...  \n",
       "2  [подовала, пособие, 3, 7, 2, декабрь, повторно...  \n",
       "3  [каждый, человек, остановка, хотеть, укрыться,...  \n",
       "4  [березниках, сын, привитого, откоронавируса, з...  "
      ]
     },
     "execution_count": 25,
     "metadata": {},
     "output_type": "execute_result"
    }
   ],
   "source": [
    "train = pd.read_csv('data/train_dataset_train.csv', sep=';', index_col=None)\n",
    "train['text_clean'], train['tokens'] = preprocess_text(train['Текст инцидента'])\n",
    "train.head()"
   ]
  },
  {
   "cell_type": "code",
   "execution_count": 26,
   "id": "3c36f774",
   "metadata": {},
   "outputs": [],
   "source": [
    "#сохраним предобработанный текст\n",
    "train.to_csv(\"data/train_clean.csv\", index=False)"
   ]
  },
  {
   "cell_type": "code",
   "execution_count": 27,
   "id": "8651cd6f",
   "metadata": {},
   "outputs": [
    {
     "data": {
      "text/plain": [
       "(22737, 6)"
      ]
     },
     "execution_count": 27,
     "metadata": {},
     "output_type": "execute_result"
    }
   ],
   "source": [
    "#удалим пустые\n",
    "train = train[train['text_clean']!=\"\"]\n",
    "train.shape"
   ]
  },
  {
   "cell_type": "markdown",
   "id": "419dd615",
   "metadata": {},
   "source": [
    "Построим векторы по тренировочным данным"
   ]
  },
  {
   "cell_type": "code",
   "execution_count": 178,
   "id": "932f437e",
   "metadata": {},
   "outputs": [
    {
     "data": {
      "text/plain": [
       "10000"
      ]
     },
     "execution_count": 178,
     "metadata": {},
     "output_type": "execute_result"
    }
   ],
   "source": [
    "tfidf = tfidf_fit(train=train['text_clean'], tfidf=True, max_features=10000)\n",
    "feature_names = tfidf.get_feature_names_out()\n",
    "len(feature_names)"
   ]
  },
  {
   "cell_type": "code",
   "execution_count": 32,
   "id": "fa9b46dc",
   "metadata": {},
   "outputs": [
    {
     "data": {
      "text/plain": [
       "['model/tfidf.pkl']"
      ]
     },
     "execution_count": 32,
     "metadata": {},
     "output_type": "execute_result"
    }
   ],
   "source": [
    "#joblib.dump(tfidf, 'model/tfidf.pkl')"
   ]
  },
  {
   "cell_type": "code",
   "execution_count": 179,
   "id": "784ca698",
   "metadata": {},
   "outputs": [],
   "source": [
    "tfidf_embed = tfidf_embeding(model=tfidf, df=train['text_clean'])"
   ]
  },
  {
   "cell_type": "code",
   "execution_count": 180,
   "id": "0c2632de",
   "metadata": {},
   "outputs": [],
   "source": [
    "y_train = train[['Исполнитель', 'Группа тем', 'Тема']].reset_index()"
   ]
  },
  {
   "cell_type": "markdown",
   "id": "b414c1fd",
   "metadata": {},
   "source": [
    "#### Загрузка тестовых"
   ]
  },
  {
   "cell_type": "code",
   "execution_count": 108,
   "id": "1bb32307",
   "metadata": {},
   "outputs": [
    {
     "data": {
      "text/html": [
       "<div>\n",
       "<style scoped>\n",
       "    .dataframe tbody tr th:only-of-type {\n",
       "        vertical-align: middle;\n",
       "    }\n",
       "\n",
       "    .dataframe tbody tr th {\n",
       "        vertical-align: top;\n",
       "    }\n",
       "\n",
       "    .dataframe thead th {\n",
       "        text-align: right;\n",
       "    }\n",
       "</style>\n",
       "<table border=\"1\" class=\"dataframe\">\n",
       "  <thead>\n",
       "    <tr style=\"text-align: right;\">\n",
       "      <th></th>\n",
       "      <th>id</th>\n",
       "      <th>Группа тем</th>\n",
       "      <th>Тема</th>\n",
       "    </tr>\n",
       "  </thead>\n",
       "  <tbody>\n",
       "    <tr>\n",
       "      <th>0</th>\n",
       "      <td>0</td>\n",
       "      <td>Физическая культура и спорт</td>\n",
       "      <td>Строительство спортивной инфраструктуры</td>\n",
       "    </tr>\n",
       "    <tr>\n",
       "      <th>1</th>\n",
       "      <td>1</td>\n",
       "      <td>Физическая культура и спорт</td>\n",
       "      <td>Строительство спортивной инфраструктуры</td>\n",
       "    </tr>\n",
       "    <tr>\n",
       "      <th>2</th>\n",
       "      <td>2</td>\n",
       "      <td>Физическая культура и спорт</td>\n",
       "      <td>Строительство спортивной инфраструктуры</td>\n",
       "    </tr>\n",
       "    <tr>\n",
       "      <th>3</th>\n",
       "      <td>3</td>\n",
       "      <td>Физическая культура и спорт</td>\n",
       "      <td>Строительство спортивной инфраструктуры</td>\n",
       "    </tr>\n",
       "    <tr>\n",
       "      <th>4</th>\n",
       "      <td>4</td>\n",
       "      <td>Физическая культура и спорт</td>\n",
       "      <td>Строительство спортивной инфраструктуры</td>\n",
       "    </tr>\n",
       "    <tr>\n",
       "      <th>...</th>\n",
       "      <td>...</td>\n",
       "      <td>...</td>\n",
       "      <td>...</td>\n",
       "    </tr>\n",
       "    <tr>\n",
       "      <th>9738</th>\n",
       "      <td>9738</td>\n",
       "      <td>Физическая культура и спорт</td>\n",
       "      <td>Строительство спортивной инфраструктуры</td>\n",
       "    </tr>\n",
       "    <tr>\n",
       "      <th>9739</th>\n",
       "      <td>9739</td>\n",
       "      <td>Физическая культура и спорт</td>\n",
       "      <td>Строительство спортивной инфраструктуры</td>\n",
       "    </tr>\n",
       "    <tr>\n",
       "      <th>9740</th>\n",
       "      <td>9740</td>\n",
       "      <td>Физическая культура и спорт</td>\n",
       "      <td>Строительство спортивной инфраструктуры</td>\n",
       "    </tr>\n",
       "    <tr>\n",
       "      <th>9741</th>\n",
       "      <td>9741</td>\n",
       "      <td>Физическая культура и спорт</td>\n",
       "      <td>Строительство спортивной инфраструктуры</td>\n",
       "    </tr>\n",
       "    <tr>\n",
       "      <th>9742</th>\n",
       "      <td>9742</td>\n",
       "      <td>Физическая культура и спорт</td>\n",
       "      <td>Строительство спортивной инфраструктуры</td>\n",
       "    </tr>\n",
       "  </tbody>\n",
       "</table>\n",
       "<p>9743 rows × 3 columns</p>\n",
       "</div>"
      ],
      "text/plain": [
       "        id                   Группа тем  \\\n",
       "0        0  Физическая культура и спорт   \n",
       "1        1  Физическая культура и спорт   \n",
       "2        2  Физическая культура и спорт   \n",
       "3        3  Физическая культура и спорт   \n",
       "4        4  Физическая культура и спорт   \n",
       "...    ...                          ...   \n",
       "9738  9738  Физическая культура и спорт   \n",
       "9739  9739  Физическая культура и спорт   \n",
       "9740  9740  Физическая культура и спорт   \n",
       "9741  9741  Физическая культура и спорт   \n",
       "9742  9742  Физическая культура и спорт   \n",
       "\n",
       "                                         Тема  \n",
       "0     Строительство спортивной инфраструктуры  \n",
       "1     Строительство спортивной инфраструктуры  \n",
       "2     Строительство спортивной инфраструктуры  \n",
       "3     Строительство спортивной инфраструктуры  \n",
       "4     Строительство спортивной инфраструктуры  \n",
       "...                                       ...  \n",
       "9738  Строительство спортивной инфраструктуры  \n",
       "9739  Строительство спортивной инфраструктуры  \n",
       "9740  Строительство спортивной инфраструктуры  \n",
       "9741  Строительство спортивной инфраструктуры  \n",
       "9742  Строительство спортивной инфраструктуры  \n",
       "\n",
       "[9743 rows x 3 columns]"
      ]
     },
     "execution_count": 108,
     "metadata": {},
     "output_type": "execute_result"
    }
   ],
   "source": [
    "submission = pd.read_csv('data/submission.csv', sep=';', index_col=None)\n",
    "submission"
   ]
  },
  {
   "cell_type": "code",
   "execution_count": 111,
   "id": "99ac9840",
   "metadata": {},
   "outputs": [
    {
     "data": {
      "application/vnd.jupyter.widget-view+json": {
       "model_id": "9a61d6f43bb048fba516d830e57954a5",
       "version_major": 2,
       "version_minor": 0
      },
      "text/plain": [
       "  0%|          | 0/9743 [00:00<?, ?it/s]"
      ]
     },
     "metadata": {},
     "output_type": "display_data"
    },
    {
     "data": {
      "text/html": [
       "<div>\n",
       "<style scoped>\n",
       "    .dataframe tbody tr th:only-of-type {\n",
       "        vertical-align: middle;\n",
       "    }\n",
       "\n",
       "    .dataframe tbody tr th {\n",
       "        vertical-align: top;\n",
       "    }\n",
       "\n",
       "    .dataframe thead th {\n",
       "        text-align: right;\n",
       "    }\n",
       "</style>\n",
       "<table border=\"1\" class=\"dataframe\">\n",
       "  <thead>\n",
       "    <tr style=\"text-align: right;\">\n",
       "      <th></th>\n",
       "      <th>id</th>\n",
       "      <th>Текст инцидента</th>\n",
       "      <th>text_clean</th>\n",
       "      <th>tokens</th>\n",
       "    </tr>\n",
       "  </thead>\n",
       "  <tbody>\n",
       "    <tr>\n",
       "      <th>0</th>\n",
       "      <td>0</td>\n",
       "      <td>'Может создать петицию по нашей проблеме)..&lt;br...</td>\n",
       "      <td>создать петиция проблема хоккейный коробка обя...</td>\n",
       "      <td>[создать, петиция, проблема, хоккейный, коробк...</td>\n",
       "    </tr>\n",
       "    <tr>\n",
       "      <th>1</th>\n",
       "      <td>1</td>\n",
       "      <td>'Очень надеялась, что недоразумение с Декабрис...</td>\n",
       "      <td>очень надеяться недоразумение декабрист 2 испр...</td>\n",
       "      <td>[очень, надеяться, недоразумение, декабрист, 2...</td>\n",
       "    </tr>\n",
       "    <tr>\n",
       "      <th>2</th>\n",
       "      <td>2</td>\n",
       "      <td>'Хоть бы отремонтировали поликлинику на Гайве....</td>\n",
       "      <td>отремонтировать поликлиника гайве разу ремонт ...</td>\n",
       "      <td>[отремонтировать, поликлиника, гайве, разу, ре...</td>\n",
       "    </tr>\n",
       "    <tr>\n",
       "      <th>3</th>\n",
       "      <td>3</td>\n",
       "      <td>'Добрый день! Получаю выплаты с 3 до 7 лет, по...</td>\n",
       "      <td>получать выплата 3 7 год подавать прошлый год ...</td>\n",
       "      <td>[получать, выплата, 3, 7, год, подавать, прошл...</td>\n",
       "    </tr>\n",
       "    <tr>\n",
       "      <th>4</th>\n",
       "      <td>4</td>\n",
       "      <td>'Добрый день! Подскажите пожалуйста куда обращ...</td>\n",
       "      <td>обращаться программа молодой семья</td>\n",
       "      <td>[обращаться, программа, молодой, семья]</td>\n",
       "    </tr>\n",
       "  </tbody>\n",
       "</table>\n",
       "</div>"
      ],
      "text/plain": [
       "   id                                    Текст инцидента  \\\n",
       "0   0  'Может создать петицию по нашей проблеме)..<br...   \n",
       "1   1  'Очень надеялась, что недоразумение с Декабрис...   \n",
       "2   2  'Хоть бы отремонтировали поликлинику на Гайве....   \n",
       "3   3  'Добрый день! Получаю выплаты с 3 до 7 лет, по...   \n",
       "4   4  'Добрый день! Подскажите пожалуйста куда обращ...   \n",
       "\n",
       "                                          text_clean  \\\n",
       "0  создать петиция проблема хоккейный коробка обя...   \n",
       "1  очень надеяться недоразумение декабрист 2 испр...   \n",
       "2  отремонтировать поликлиника гайве разу ремонт ...   \n",
       "3  получать выплата 3 7 год подавать прошлый год ...   \n",
       "4                 обращаться программа молодой семья   \n",
       "\n",
       "                                              tokens  \n",
       "0  [создать, петиция, проблема, хоккейный, коробк...  \n",
       "1  [очень, надеяться, недоразумение, декабрист, 2...  \n",
       "2  [отремонтировать, поликлиника, гайве, разу, ре...  \n",
       "3  [получать, выплата, 3, 7, год, подавать, прошл...  \n",
       "4            [обращаться, программа, молодой, семья]  "
      ]
     },
     "execution_count": 111,
     "metadata": {},
     "output_type": "execute_result"
    }
   ],
   "source": [
    "testname='data/test.csv'\n",
    "testcol='Текст инцидента'\n",
    "\n",
    "test = pd.read_csv(testname, sep=';', index_col=None)#[[testcol]]\n",
    "test['text_clean'], test['tokens'] = preprocess_text(test[testcol])\n",
    "test.head()"
   ]
  },
  {
   "cell_type": "code",
   "execution_count": 181,
   "id": "0338fac2",
   "metadata": {},
   "outputs": [],
   "source": [
    "test_embed = tfidf_embeding(model=tfidf, df=test['text_clean'])"
   ]
  },
  {
   "cell_type": "markdown",
   "id": "2efe4552",
   "metadata": {},
   "source": [
    "Предсказание по фолдам"
   ]
  },
  {
   "cell_type": "markdown",
   "id": "954c7926",
   "metadata": {},
   "source": [
    "### Группа тем"
   ]
  },
  {
   "cell_type": "code",
   "execution_count": 182,
   "id": "bcdec5e1",
   "metadata": {},
   "outputs": [],
   "source": [
    "#folds = KFold(n_splits=5, shuffle=True, random_state=42)\n",
    "folds = StratifiedKFold(n_splits=5, shuffle=True, random_state=42)\n",
    "n_class=y_train['Группа тем'].nunique()#.values[0]\n",
    "#количество сэмплов, количество классов\n",
    "pred_proba = np.zeros((test_embed.shape[0], n_class))\n",
    "\n",
    "y=np.array(y_train['Группа тем'])\n",
    "logit = LogisticRegression(solver = \"liblinear\", C=2.0, class_weight=\"balanced\", max_iter=200, multi_class=\"ovr\")"
   ]
  },
  {
   "cell_type": "code",
   "execution_count": 183,
   "id": "db576f8d",
   "metadata": {},
   "outputs": [
    {
     "name": "stdout",
     "output_type": "stream",
     "text": [
      "fold n°1\n",
      "fold n°2\n",
      "fold n°3\n",
      "fold n°4\n",
      "fold n°5\n"
     ]
    }
   ],
   "source": [
    "for fold_, (trn_idx, val_idx) in enumerate(folds.split(tfidf_embed, y)):\n",
    "    print(\"fold n°{}\".format(fold_ + 1))\n",
    "    X_train_part, y_train_part = tfidf_embed[trn_idx], y[trn_idx]\n",
    "    X_valid, y_valid = tfidf_embed[val_idx], y[val_idx]\n",
    "    \n",
    "    logit.fit(X_train_part, y_train_part)    \n",
    "    pred_proba += logit.predict_proba(test_embed) / folds.n_splits"
   ]
  },
  {
   "cell_type": "code",
   "execution_count": 184,
   "id": "35471401",
   "metadata": {},
   "outputs": [],
   "source": [
    "predict_group = pd.DataFrame(pred_proba, columns=logit.classes_).idxmax(axis=\"columns\").tolist()"
   ]
  },
  {
   "cell_type": "markdown",
   "id": "cef0e1c6",
   "metadata": {},
   "source": [
    "### Темы"
   ]
  },
  {
   "cell_type": "code",
   "execution_count": 185,
   "id": "a44e7b64",
   "metadata": {},
   "outputs": [],
   "source": [
    "#folds = KFold(n_splits=5, shuffle=True, random_state=42)\n",
    "folds = StratifiedKFold(n_splits=5, shuffle=True, random_state=42)\n",
    "n_class=y_train['Тема'].nunique()#.values[0]\n",
    "#количество сэмплов, количество классов\n",
    "pred_proba = np.zeros((test_embed.shape[0], n_class))\n",
    "\n",
    "y=np.array(y_train['Тема'])\n",
    "logit = LogisticRegression(solver = \"liblinear\", C=7.0, class_weight=\"balanced\", max_iter=200, multi_class=\"ovr\")"
   ]
  },
  {
   "cell_type": "code",
   "execution_count": 186,
   "id": "863c14a5",
   "metadata": {},
   "outputs": [
    {
     "name": "stdout",
     "output_type": "stream",
     "text": [
      "fold n°1\n",
      "fold n°2\n",
      "fold n°3\n",
      "fold n°4\n",
      "fold n°5\n",
      "CPU times: user 4min 10s, sys: 8min 40s, total: 12min 51s\n",
      "Wall time: 1min 7s\n"
     ]
    }
   ],
   "source": [
    "%%time\n",
    "for fold_, (trn_idx, val_idx) in enumerate(folds.split(tfidf_embed, y)):\n",
    "    print(\"fold n°{}\".format(fold_ + 1))\n",
    "    X_train_part, y_train_part = tfidf_embed[trn_idx], y[trn_idx]\n",
    "    X_valid, y_valid = tfidf_embed[val_idx], y[val_idx]\n",
    "    \n",
    "    logit.fit(X_train_part, y_train_part)    \n",
    "    pred_proba += logit.predict_proba(test_embed) / folds.n_splits"
   ]
  },
  {
   "cell_type": "code",
   "execution_count": 187,
   "id": "53cd9fdb",
   "metadata": {},
   "outputs": [],
   "source": [
    "predict_title = pd.DataFrame(pred_proba, columns=logit.classes_).idxmax(axis=\"columns\").tolist()"
   ]
  },
  {
   "cell_type": "markdown",
   "id": "d9013984",
   "metadata": {},
   "source": [
    "### Исполнители"
   ]
  },
  {
   "cell_type": "code",
   "execution_count": 81,
   "id": "b3be783a",
   "metadata": {},
   "outputs": [],
   "source": [
    "#folds = KFold(n_splits=5, shuffle=True, random_state=42)\n",
    "folds = StratifiedKFold(n_splits=5, shuffle=True, random_state=42)\n",
    "n_class=y_train['Исполнитель'].nunique()#.values[0]\n",
    "#количество сэмплов, количество классов\n",
    "pred_proba = np.zeros((test_embed.shape[0], n_class))\n",
    "\n",
    "y=np.array(y_train['Исполнитель'])\n",
    "logit = LogisticRegression(solver = \"lbfgs\", C=1.0, class_weight=\"balanced\", max_iter=200, multi_class=\"ovr\")"
   ]
  },
  {
   "cell_type": "code",
   "execution_count": 82,
   "id": "2253f493",
   "metadata": {},
   "outputs": [
    {
     "name": "stdout",
     "output_type": "stream",
     "text": [
      "fold n°1\n",
      "fold n°2\n",
      "fold n°3\n",
      "fold n°4\n",
      "fold n°5\n"
     ]
    }
   ],
   "source": [
    "for fold_, (trn_idx, val_idx) in enumerate(folds.split(tfidf_embed, y)):\n",
    "    print(\"fold n°{}\".format(fold_ + 1))\n",
    "    X_train_part, y_train_part = tfidf_embed[trn_idx], y[trn_idx]\n",
    "    X_valid, y_valid = tfidf_embed[val_idx], y[val_idx]\n",
    "    \n",
    "    logit.fit(X_train_part, y_train_part)    \n",
    "    pred_proba += logit.predict_proba(test_embed) / folds.n_splits"
   ]
  },
  {
   "cell_type": "code",
   "execution_count": 83,
   "id": "43234ef1",
   "metadata": {},
   "outputs": [],
   "source": [
    "predict_otdel = pd.DataFrame(pred_proba, columns=logit.classes_).idxmax(axis=\"columns\").tolist()"
   ]
  },
  {
   "cell_type": "markdown",
   "id": "5e29978b",
   "metadata": {},
   "source": [
    "### Простые модели"
   ]
  },
  {
   "cell_type": "markdown",
   "id": "599ce634",
   "metadata": {},
   "source": [
    "Исполнители"
   ]
  },
  {
   "cell_type": "code",
   "execution_count": 85,
   "id": "d5d21af4",
   "metadata": {},
   "outputs": [
    {
     "data": {
      "text/html": [
       "<style>#sk-container-id-1 {color: black;}#sk-container-id-1 pre{padding: 0;}#sk-container-id-1 div.sk-toggleable {background-color: white;}#sk-container-id-1 label.sk-toggleable__label {cursor: pointer;display: block;width: 100%;margin-bottom: 0;padding: 0.3em;box-sizing: border-box;text-align: center;}#sk-container-id-1 label.sk-toggleable__label-arrow:before {content: \"▸\";float: left;margin-right: 0.25em;color: #696969;}#sk-container-id-1 label.sk-toggleable__label-arrow:hover:before {color: black;}#sk-container-id-1 div.sk-estimator:hover label.sk-toggleable__label-arrow:before {color: black;}#sk-container-id-1 div.sk-toggleable__content {max-height: 0;max-width: 0;overflow: hidden;text-align: left;background-color: #f0f8ff;}#sk-container-id-1 div.sk-toggleable__content pre {margin: 0.2em;color: black;border-radius: 0.25em;background-color: #f0f8ff;}#sk-container-id-1 input.sk-toggleable__control:checked~div.sk-toggleable__content {max-height: 200px;max-width: 100%;overflow: auto;}#sk-container-id-1 input.sk-toggleable__control:checked~label.sk-toggleable__label-arrow:before {content: \"▾\";}#sk-container-id-1 div.sk-estimator input.sk-toggleable__control:checked~label.sk-toggleable__label {background-color: #d4ebff;}#sk-container-id-1 div.sk-label input.sk-toggleable__control:checked~label.sk-toggleable__label {background-color: #d4ebff;}#sk-container-id-1 input.sk-hidden--visually {border: 0;clip: rect(1px 1px 1px 1px);clip: rect(1px, 1px, 1px, 1px);height: 1px;margin: -1px;overflow: hidden;padding: 0;position: absolute;width: 1px;}#sk-container-id-1 div.sk-estimator {font-family: monospace;background-color: #f0f8ff;border: 1px dotted black;border-radius: 0.25em;box-sizing: border-box;margin-bottom: 0.5em;}#sk-container-id-1 div.sk-estimator:hover {background-color: #d4ebff;}#sk-container-id-1 div.sk-parallel-item::after {content: \"\";width: 100%;border-bottom: 1px solid gray;flex-grow: 1;}#sk-container-id-1 div.sk-label:hover label.sk-toggleable__label {background-color: #d4ebff;}#sk-container-id-1 div.sk-serial::before {content: \"\";position: absolute;border-left: 1px solid gray;box-sizing: border-box;top: 0;bottom: 0;left: 50%;z-index: 0;}#sk-container-id-1 div.sk-serial {display: flex;flex-direction: column;align-items: center;background-color: white;padding-right: 0.2em;padding-left: 0.2em;position: relative;}#sk-container-id-1 div.sk-item {position: relative;z-index: 1;}#sk-container-id-1 div.sk-parallel {display: flex;align-items: stretch;justify-content: center;background-color: white;position: relative;}#sk-container-id-1 div.sk-item::before, #sk-container-id-1 div.sk-parallel-item::before {content: \"\";position: absolute;border-left: 1px solid gray;box-sizing: border-box;top: 0;bottom: 0;left: 50%;z-index: -1;}#sk-container-id-1 div.sk-parallel-item {display: flex;flex-direction: column;z-index: 1;position: relative;background-color: white;}#sk-container-id-1 div.sk-parallel-item:first-child::after {align-self: flex-end;width: 50%;}#sk-container-id-1 div.sk-parallel-item:last-child::after {align-self: flex-start;width: 50%;}#sk-container-id-1 div.sk-parallel-item:only-child::after {width: 0;}#sk-container-id-1 div.sk-dashed-wrapped {border: 1px dashed gray;margin: 0 0.4em 0.5em 0.4em;box-sizing: border-box;padding-bottom: 0.4em;background-color: white;}#sk-container-id-1 div.sk-label label {font-family: monospace;font-weight: bold;display: inline-block;line-height: 1.2em;}#sk-container-id-1 div.sk-label-container {text-align: center;}#sk-container-id-1 div.sk-container {/* jupyter's `normalize.less` sets `[hidden] { display: none; }` but bootstrap.min.css set `[hidden] { display: none !important; }` so we also need the `!important` here to be able to override the default hidden behavior on the sphinx rendered scikit-learn.org. See: https://github.com/scikit-learn/scikit-learn/issues/21755 */display: inline-block !important;position: relative;}#sk-container-id-1 div.sk-text-repr-fallback {display: none;}</style><div id=\"sk-container-id-1\" class=\"sk-top-container\"><div class=\"sk-text-repr-fallback\"><pre>LogisticRegression(class_weight=&#x27;balanced&#x27;, max_iter=200, multi_class=&#x27;ovr&#x27;)</pre><b>In a Jupyter environment, please rerun this cell to show the HTML representation or trust the notebook. <br />On GitHub, the HTML representation is unable to render, please try loading this page with nbviewer.org.</b></div><div class=\"sk-container\" hidden><div class=\"sk-item\"><div class=\"sk-estimator sk-toggleable\"><input class=\"sk-toggleable__control sk-hidden--visually\" id=\"sk-estimator-id-1\" type=\"checkbox\" checked><label for=\"sk-estimator-id-1\" class=\"sk-toggleable__label sk-toggleable__label-arrow\">LogisticRegression</label><div class=\"sk-toggleable__content\"><pre>LogisticRegression(class_weight=&#x27;balanced&#x27;, max_iter=200, multi_class=&#x27;ovr&#x27;)</pre></div></div></div></div></div>"
      ],
      "text/plain": [
       "LogisticRegression(class_weight='balanced', max_iter=200, multi_class='ovr')"
      ]
     },
     "execution_count": 85,
     "metadata": {},
     "output_type": "execute_result"
    }
   ],
   "source": [
    "logit_otdel = LogisticRegression(solver = \"lbfgs\", C=1.0, class_weight=\"balanced\", max_iter=200, multi_class=\"ovr\")\n",
    "logit_otdel.fit(tfidf_embed, y_train['Исполнитель'])"
   ]
  },
  {
   "cell_type": "code",
   "execution_count": 86,
   "id": "81f08daf",
   "metadata": {},
   "outputs": [
    {
     "data": {
      "text/plain": [
       "['model/logit_otdel.sav']"
      ]
     },
     "execution_count": 86,
     "metadata": {},
     "output_type": "execute_result"
    }
   ],
   "source": [
    "# save the model to disk\n",
    "#joblib.dump(logit_otdel, 'model/logit_otdel.sav')\n",
    " \n",
    "# load the model from disk\n",
    "#logit = joblib.load('model/logit_otdel.sav')"
   ]
  },
  {
   "cell_type": "code",
   "execution_count": 87,
   "id": "3e8bfddb",
   "metadata": {},
   "outputs": [],
   "source": [
    "predict_otdel = logit_otdel.predict(test_embed)"
   ]
  },
  {
   "cell_type": "markdown",
   "id": "d99ec325",
   "metadata": {},
   "source": [
    "Группы тем"
   ]
  },
  {
   "cell_type": "code",
   "execution_count": 88,
   "id": "96f5e6e1",
   "metadata": {},
   "outputs": [
    {
     "data": {
      "text/html": [
       "<style>#sk-container-id-2 {color: black;}#sk-container-id-2 pre{padding: 0;}#sk-container-id-2 div.sk-toggleable {background-color: white;}#sk-container-id-2 label.sk-toggleable__label {cursor: pointer;display: block;width: 100%;margin-bottom: 0;padding: 0.3em;box-sizing: border-box;text-align: center;}#sk-container-id-2 label.sk-toggleable__label-arrow:before {content: \"▸\";float: left;margin-right: 0.25em;color: #696969;}#sk-container-id-2 label.sk-toggleable__label-arrow:hover:before {color: black;}#sk-container-id-2 div.sk-estimator:hover label.sk-toggleable__label-arrow:before {color: black;}#sk-container-id-2 div.sk-toggleable__content {max-height: 0;max-width: 0;overflow: hidden;text-align: left;background-color: #f0f8ff;}#sk-container-id-2 div.sk-toggleable__content pre {margin: 0.2em;color: black;border-radius: 0.25em;background-color: #f0f8ff;}#sk-container-id-2 input.sk-toggleable__control:checked~div.sk-toggleable__content {max-height: 200px;max-width: 100%;overflow: auto;}#sk-container-id-2 input.sk-toggleable__control:checked~label.sk-toggleable__label-arrow:before {content: \"▾\";}#sk-container-id-2 div.sk-estimator input.sk-toggleable__control:checked~label.sk-toggleable__label {background-color: #d4ebff;}#sk-container-id-2 div.sk-label input.sk-toggleable__control:checked~label.sk-toggleable__label {background-color: #d4ebff;}#sk-container-id-2 input.sk-hidden--visually {border: 0;clip: rect(1px 1px 1px 1px);clip: rect(1px, 1px, 1px, 1px);height: 1px;margin: -1px;overflow: hidden;padding: 0;position: absolute;width: 1px;}#sk-container-id-2 div.sk-estimator {font-family: monospace;background-color: #f0f8ff;border: 1px dotted black;border-radius: 0.25em;box-sizing: border-box;margin-bottom: 0.5em;}#sk-container-id-2 div.sk-estimator:hover {background-color: #d4ebff;}#sk-container-id-2 div.sk-parallel-item::after {content: \"\";width: 100%;border-bottom: 1px solid gray;flex-grow: 1;}#sk-container-id-2 div.sk-label:hover label.sk-toggleable__label {background-color: #d4ebff;}#sk-container-id-2 div.sk-serial::before {content: \"\";position: absolute;border-left: 1px solid gray;box-sizing: border-box;top: 0;bottom: 0;left: 50%;z-index: 0;}#sk-container-id-2 div.sk-serial {display: flex;flex-direction: column;align-items: center;background-color: white;padding-right: 0.2em;padding-left: 0.2em;position: relative;}#sk-container-id-2 div.sk-item {position: relative;z-index: 1;}#sk-container-id-2 div.sk-parallel {display: flex;align-items: stretch;justify-content: center;background-color: white;position: relative;}#sk-container-id-2 div.sk-item::before, #sk-container-id-2 div.sk-parallel-item::before {content: \"\";position: absolute;border-left: 1px solid gray;box-sizing: border-box;top: 0;bottom: 0;left: 50%;z-index: -1;}#sk-container-id-2 div.sk-parallel-item {display: flex;flex-direction: column;z-index: 1;position: relative;background-color: white;}#sk-container-id-2 div.sk-parallel-item:first-child::after {align-self: flex-end;width: 50%;}#sk-container-id-2 div.sk-parallel-item:last-child::after {align-self: flex-start;width: 50%;}#sk-container-id-2 div.sk-parallel-item:only-child::after {width: 0;}#sk-container-id-2 div.sk-dashed-wrapped {border: 1px dashed gray;margin: 0 0.4em 0.5em 0.4em;box-sizing: border-box;padding-bottom: 0.4em;background-color: white;}#sk-container-id-2 div.sk-label label {font-family: monospace;font-weight: bold;display: inline-block;line-height: 1.2em;}#sk-container-id-2 div.sk-label-container {text-align: center;}#sk-container-id-2 div.sk-container {/* jupyter's `normalize.less` sets `[hidden] { display: none; }` but bootstrap.min.css set `[hidden] { display: none !important; }` so we also need the `!important` here to be able to override the default hidden behavior on the sphinx rendered scikit-learn.org. See: https://github.com/scikit-learn/scikit-learn/issues/21755 */display: inline-block !important;position: relative;}#sk-container-id-2 div.sk-text-repr-fallback {display: none;}</style><div id=\"sk-container-id-2\" class=\"sk-top-container\"><div class=\"sk-text-repr-fallback\"><pre>LogisticRegression(C=2.0, class_weight=&#x27;balanced&#x27;, max_iter=200,\n",
       "                   multi_class=&#x27;ovr&#x27;)</pre><b>In a Jupyter environment, please rerun this cell to show the HTML representation or trust the notebook. <br />On GitHub, the HTML representation is unable to render, please try loading this page with nbviewer.org.</b></div><div class=\"sk-container\" hidden><div class=\"sk-item\"><div class=\"sk-estimator sk-toggleable\"><input class=\"sk-toggleable__control sk-hidden--visually\" id=\"sk-estimator-id-2\" type=\"checkbox\" checked><label for=\"sk-estimator-id-2\" class=\"sk-toggleable__label sk-toggleable__label-arrow\">LogisticRegression</label><div class=\"sk-toggleable__content\"><pre>LogisticRegression(C=2.0, class_weight=&#x27;balanced&#x27;, max_iter=200,\n",
       "                   multi_class=&#x27;ovr&#x27;)</pre></div></div></div></div></div>"
      ],
      "text/plain": [
       "LogisticRegression(C=2.0, class_weight='balanced', max_iter=200,\n",
       "                   multi_class='ovr')"
      ]
     },
     "execution_count": 88,
     "metadata": {},
     "output_type": "execute_result"
    }
   ],
   "source": [
    "logit_group = LogisticRegression(solver = \"lbfgs\", C=2.0, class_weight=\"balanced\", max_iter=200, multi_class=\"ovr\")\n",
    "logit_group.fit(tfidf_embed, y_train[\"Группа тем\"])"
   ]
  },
  {
   "cell_type": "code",
   "execution_count": 90,
   "id": "d8e3bea8",
   "metadata": {},
   "outputs": [
    {
     "data": {
      "text/plain": [
       "['model/logit_group.sav']"
      ]
     },
     "execution_count": 90,
     "metadata": {},
     "output_type": "execute_result"
    }
   ],
   "source": [
    "# save the model to disk\n",
    "#joblib.dump(logit, 'model/logit_group.sav')\n",
    " \n",
    "# load the model from disk\n",
    "#logit_group = joblib.load('model/logit_group.sav')"
   ]
  },
  {
   "cell_type": "code",
   "execution_count": 113,
   "id": "fa92c603",
   "metadata": {},
   "outputs": [],
   "source": [
    "predict_group = logit_group.predict(test_embed)"
   ]
  },
  {
   "cell_type": "markdown",
   "id": "739a18e5",
   "metadata": {},
   "source": [
    "Темы"
   ]
  },
  {
   "cell_type": "code",
   "execution_count": 92,
   "id": "07296f5f",
   "metadata": {},
   "outputs": [
    {
     "name": "stdout",
     "output_type": "stream",
     "text": [
      "CPU times: user 12.3 s, sys: 2.14 ms, total: 12.3 s\n",
      "Wall time: 12.3 s\n"
     ]
    },
    {
     "data": {
      "text/html": [
       "<style>#sk-container-id-3 {color: black;}#sk-container-id-3 pre{padding: 0;}#sk-container-id-3 div.sk-toggleable {background-color: white;}#sk-container-id-3 label.sk-toggleable__label {cursor: pointer;display: block;width: 100%;margin-bottom: 0;padding: 0.3em;box-sizing: border-box;text-align: center;}#sk-container-id-3 label.sk-toggleable__label-arrow:before {content: \"▸\";float: left;margin-right: 0.25em;color: #696969;}#sk-container-id-3 label.sk-toggleable__label-arrow:hover:before {color: black;}#sk-container-id-3 div.sk-estimator:hover label.sk-toggleable__label-arrow:before {color: black;}#sk-container-id-3 div.sk-toggleable__content {max-height: 0;max-width: 0;overflow: hidden;text-align: left;background-color: #f0f8ff;}#sk-container-id-3 div.sk-toggleable__content pre {margin: 0.2em;color: black;border-radius: 0.25em;background-color: #f0f8ff;}#sk-container-id-3 input.sk-toggleable__control:checked~div.sk-toggleable__content {max-height: 200px;max-width: 100%;overflow: auto;}#sk-container-id-3 input.sk-toggleable__control:checked~label.sk-toggleable__label-arrow:before {content: \"▾\";}#sk-container-id-3 div.sk-estimator input.sk-toggleable__control:checked~label.sk-toggleable__label {background-color: #d4ebff;}#sk-container-id-3 div.sk-label input.sk-toggleable__control:checked~label.sk-toggleable__label {background-color: #d4ebff;}#sk-container-id-3 input.sk-hidden--visually {border: 0;clip: rect(1px 1px 1px 1px);clip: rect(1px, 1px, 1px, 1px);height: 1px;margin: -1px;overflow: hidden;padding: 0;position: absolute;width: 1px;}#sk-container-id-3 div.sk-estimator {font-family: monospace;background-color: #f0f8ff;border: 1px dotted black;border-radius: 0.25em;box-sizing: border-box;margin-bottom: 0.5em;}#sk-container-id-3 div.sk-estimator:hover {background-color: #d4ebff;}#sk-container-id-3 div.sk-parallel-item::after {content: \"\";width: 100%;border-bottom: 1px solid gray;flex-grow: 1;}#sk-container-id-3 div.sk-label:hover label.sk-toggleable__label {background-color: #d4ebff;}#sk-container-id-3 div.sk-serial::before {content: \"\";position: absolute;border-left: 1px solid gray;box-sizing: border-box;top: 0;bottom: 0;left: 50%;z-index: 0;}#sk-container-id-3 div.sk-serial {display: flex;flex-direction: column;align-items: center;background-color: white;padding-right: 0.2em;padding-left: 0.2em;position: relative;}#sk-container-id-3 div.sk-item {position: relative;z-index: 1;}#sk-container-id-3 div.sk-parallel {display: flex;align-items: stretch;justify-content: center;background-color: white;position: relative;}#sk-container-id-3 div.sk-item::before, #sk-container-id-3 div.sk-parallel-item::before {content: \"\";position: absolute;border-left: 1px solid gray;box-sizing: border-box;top: 0;bottom: 0;left: 50%;z-index: -1;}#sk-container-id-3 div.sk-parallel-item {display: flex;flex-direction: column;z-index: 1;position: relative;background-color: white;}#sk-container-id-3 div.sk-parallel-item:first-child::after {align-self: flex-end;width: 50%;}#sk-container-id-3 div.sk-parallel-item:last-child::after {align-self: flex-start;width: 50%;}#sk-container-id-3 div.sk-parallel-item:only-child::after {width: 0;}#sk-container-id-3 div.sk-dashed-wrapped {border: 1px dashed gray;margin: 0 0.4em 0.5em 0.4em;box-sizing: border-box;padding-bottom: 0.4em;background-color: white;}#sk-container-id-3 div.sk-label label {font-family: monospace;font-weight: bold;display: inline-block;line-height: 1.2em;}#sk-container-id-3 div.sk-label-container {text-align: center;}#sk-container-id-3 div.sk-container {/* jupyter's `normalize.less` sets `[hidden] { display: none; }` but bootstrap.min.css set `[hidden] { display: none !important; }` so we also need the `!important` here to be able to override the default hidden behavior on the sphinx rendered scikit-learn.org. See: https://github.com/scikit-learn/scikit-learn/issues/21755 */display: inline-block !important;position: relative;}#sk-container-id-3 div.sk-text-repr-fallback {display: none;}</style><div id=\"sk-container-id-3\" class=\"sk-top-container\"><div class=\"sk-text-repr-fallback\"><pre>LogisticRegression(C=7.0, class_weight=&#x27;balanced&#x27;, max_iter=200,\n",
       "                   multi_class=&#x27;ovr&#x27;, solver=&#x27;liblinear&#x27;)</pre><b>In a Jupyter environment, please rerun this cell to show the HTML representation or trust the notebook. <br />On GitHub, the HTML representation is unable to render, please try loading this page with nbviewer.org.</b></div><div class=\"sk-container\" hidden><div class=\"sk-item\"><div class=\"sk-estimator sk-toggleable\"><input class=\"sk-toggleable__control sk-hidden--visually\" id=\"sk-estimator-id-3\" type=\"checkbox\" checked><label for=\"sk-estimator-id-3\" class=\"sk-toggleable__label sk-toggleable__label-arrow\">LogisticRegression</label><div class=\"sk-toggleable__content\"><pre>LogisticRegression(C=7.0, class_weight=&#x27;balanced&#x27;, max_iter=200,\n",
       "                   multi_class=&#x27;ovr&#x27;, solver=&#x27;liblinear&#x27;)</pre></div></div></div></div></div>"
      ],
      "text/plain": [
       "LogisticRegression(C=7.0, class_weight='balanced', max_iter=200,\n",
       "                   multi_class='ovr', solver='liblinear')"
      ]
     },
     "execution_count": 92,
     "metadata": {},
     "output_type": "execute_result"
    }
   ],
   "source": [
    "%%time\n",
    "logit_title = LogisticRegression(solver = \"liblinear\", C=7.0, class_weight=\"balanced\", max_iter=200, multi_class=\"ovr\")\n",
    "logit_title.fit(tfidf_embed, y_train[\"Тема\"])"
   ]
  },
  {
   "cell_type": "code",
   "execution_count": 93,
   "id": "73e9ca40",
   "metadata": {},
   "outputs": [
    {
     "data": {
      "text/plain": [
       "['model/logit_title.sav']"
      ]
     },
     "execution_count": 93,
     "metadata": {},
     "output_type": "execute_result"
    }
   ],
   "source": [
    "# save the model to disk\n",
    "#joblib.dump(logit_title, 'model/logit_title.sav')\n",
    " \n",
    "# load the model from disk\n",
    "#logit_title = joblib.load('model/logit_title.sav')"
   ]
  },
  {
   "cell_type": "code",
   "execution_count": 114,
   "id": "23ba0978",
   "metadata": {},
   "outputs": [],
   "source": [
    "predict_title = logit_title.predict(test_embed)"
   ]
  },
  {
   "cell_type": "markdown",
   "id": "8f0cecf8",
   "metadata": {},
   "source": [
    "Индексы"
   ]
  },
  {
   "cell_type": "code",
   "execution_count": 136,
   "id": "0a320fd8",
   "metadata": {},
   "outputs": [],
   "source": [
    "#группы тем\n",
    "t_group = index_annoy(tfidf_embed)"
   ]
  },
  {
   "cell_type": "code",
   "execution_count": 173,
   "id": "7177ebce",
   "metadata": {},
   "outputs": [
    {
     "data": {
      "application/vnd.jupyter.widget-view+json": {
       "model_id": "4246ee59efc4449ca59ff501f54ac4d6",
       "version_major": 2,
       "version_minor": 0
      },
      "text/plain": [
       "  0%|          | 0/9743 [00:00<?, ?it/s]"
      ]
     },
     "metadata": {},
     "output_type": "display_data"
    }
   ],
   "source": [
    "predict_group=predict_nns(t_group, test_embed, y_train[\"Группа тем\"], count=3)"
   ]
  },
  {
   "cell_type": "code",
   "execution_count": 138,
   "id": "02c297d8",
   "metadata": {},
   "outputs": [],
   "source": [
    "#темы\n",
    "t_title = index_annoy(tfidf_embed)"
   ]
  },
  {
   "cell_type": "code",
   "execution_count": 174,
   "id": "9374e8f2",
   "metadata": {},
   "outputs": [
    {
     "data": {
      "application/vnd.jupyter.widget-view+json": {
       "model_id": "882a8fcded514decb8cc109f1d27287c",
       "version_major": 2,
       "version_minor": 0
      },
      "text/plain": [
       "  0%|          | 0/9743 [00:00<?, ?it/s]"
      ]
     },
     "metadata": {},
     "output_type": "display_data"
    }
   ],
   "source": [
    "predict_title=predict_nns(t_group, test_embed, y_train['Тема'], count=3)"
   ]
  },
  {
   "cell_type": "markdown",
   "id": "85b4b596",
   "metadata": {},
   "source": [
    "# Создание сабмита"
   ]
  },
  {
   "cell_type": "code",
   "execution_count": 175,
   "id": "a29a12f6",
   "metadata": {},
   "outputs": [],
   "source": [
    "#submission=pd.DataFrme()\n",
    "#submission=test[[\"Текст инцидента\"]].copy()\n",
    "submission[\"Группа тем\"]=predict_group\n",
    "submission[\"Тема\"]=predict_title"
   ]
  },
  {
   "cell_type": "code",
   "execution_count": 176,
   "id": "a152a551",
   "metadata": {},
   "outputs": [
    {
     "data": {
      "text/html": [
       "<div>\n",
       "<style scoped>\n",
       "    .dataframe tbody tr th:only-of-type {\n",
       "        vertical-align: middle;\n",
       "    }\n",
       "\n",
       "    .dataframe tbody tr th {\n",
       "        vertical-align: top;\n",
       "    }\n",
       "\n",
       "    .dataframe thead th {\n",
       "        text-align: right;\n",
       "    }\n",
       "</style>\n",
       "<table border=\"1\" class=\"dataframe\">\n",
       "  <thead>\n",
       "    <tr style=\"text-align: right;\">\n",
       "      <th></th>\n",
       "      <th>id</th>\n",
       "      <th>Группа тем</th>\n",
       "      <th>Тема</th>\n",
       "    </tr>\n",
       "  </thead>\n",
       "  <tbody>\n",
       "    <tr>\n",
       "      <th>0</th>\n",
       "      <td>0</td>\n",
       "      <td>Физическая культура и спорт</td>\n",
       "      <td>Строительство спортивной инфраструктуры</td>\n",
       "    </tr>\n",
       "    <tr>\n",
       "      <th>1</th>\n",
       "      <td>1</td>\n",
       "      <td>Дороги</td>\n",
       "      <td>Содержание, ремонт и обустройство тротуаров</td>\n",
       "    </tr>\n",
       "    <tr>\n",
       "      <th>2</th>\n",
       "      <td>2</td>\n",
       "      <td>Благоустройство</td>\n",
       "      <td>Благоустройство придомовых территорий</td>\n",
       "    </tr>\n",
       "    <tr>\n",
       "      <th>3</th>\n",
       "      <td>3</td>\n",
       "      <td>Социальное обслуживание и защита</td>\n",
       "      <td>Дети и многодетные семьи</td>\n",
       "    </tr>\n",
       "    <tr>\n",
       "      <th>4</th>\n",
       "      <td>4</td>\n",
       "      <td>Социальное обслуживание и защита</td>\n",
       "      <td>Оказание гос. соц. помощи</td>\n",
       "    </tr>\n",
       "    <tr>\n",
       "      <th>...</th>\n",
       "      <td>...</td>\n",
       "      <td>...</td>\n",
       "      <td>...</td>\n",
       "    </tr>\n",
       "    <tr>\n",
       "      <th>9738</th>\n",
       "      <td>9738</td>\n",
       "      <td>Благоустройство</td>\n",
       "      <td>Отсутствие фонарей освещения</td>\n",
       "    </tr>\n",
       "    <tr>\n",
       "      <th>9739</th>\n",
       "      <td>9739</td>\n",
       "      <td>Социальное обслуживание и защита</td>\n",
       "      <td>Оказание гос. соц. помощи</td>\n",
       "    </tr>\n",
       "    <tr>\n",
       "      <th>9740</th>\n",
       "      <td>9740</td>\n",
       "      <td>ЖКХ</td>\n",
       "      <td>Отсутствие холодной воды</td>\n",
       "    </tr>\n",
       "    <tr>\n",
       "      <th>9741</th>\n",
       "      <td>9741</td>\n",
       "      <td>Социальное обслуживание и защита</td>\n",
       "      <td>Оказание гос. соц. помощи</td>\n",
       "    </tr>\n",
       "    <tr>\n",
       "      <th>9742</th>\n",
       "      <td>9742</td>\n",
       "      <td>Социальное обслуживание и защита</td>\n",
       "      <td>Дети и многодетные семьи</td>\n",
       "    </tr>\n",
       "  </tbody>\n",
       "</table>\n",
       "<p>9743 rows × 3 columns</p>\n",
       "</div>"
      ],
      "text/plain": [
       "        id                        Группа тем  \\\n",
       "0        0       Физическая культура и спорт   \n",
       "1        1                            Дороги   \n",
       "2        2                   Благоустройство   \n",
       "3        3  Социальное обслуживание и защита   \n",
       "4        4  Социальное обслуживание и защита   \n",
       "...    ...                               ...   \n",
       "9738  9738                   Благоустройство   \n",
       "9739  9739  Социальное обслуживание и защита   \n",
       "9740  9740                               ЖКХ   \n",
       "9741  9741  Социальное обслуживание и защита   \n",
       "9742  9742  Социальное обслуживание и защита   \n",
       "\n",
       "                                             Тема  \n",
       "0         Строительство спортивной инфраструктуры  \n",
       "1     Содержание, ремонт и обустройство тротуаров  \n",
       "2           Благоустройство придомовых территорий  \n",
       "3                        Дети и многодетные семьи  \n",
       "4                       Оказание гос. соц. помощи  \n",
       "...                                           ...  \n",
       "9738                 Отсутствие фонарей освещения  \n",
       "9739                    Оказание гос. соц. помощи  \n",
       "9740                     Отсутствие холодной воды  \n",
       "9741                    Оказание гос. соц. помощи  \n",
       "9742                     Дети и многодетные семьи  \n",
       "\n",
       "[9743 rows x 3 columns]"
      ]
     },
     "execution_count": 176,
     "metadata": {},
     "output_type": "execute_result"
    }
   ],
   "source": [
    "submission"
   ]
  },
  {
   "cell_type": "code",
   "execution_count": 177,
   "id": "1d231358",
   "metadata": {},
   "outputs": [],
   "source": [
    "submission[[\"id\", \"Группа тем\", \"Тема\"]].to_csv(\"data/submission6.csv\", sep=';', index=False)"
   ]
  },
  {
   "cell_type": "code",
   "execution_count": null,
   "id": "4b80c333",
   "metadata": {},
   "outputs": [],
   "source": [
    "#0.634308 простой предикт\n",
    "#0.634941 по фолдам\n",
    "#0.478777 поиском\n",
    "#0.480683 выбор из 3\n",
    "#0.628104 логрег с поиском"
   ]
  },
  {
   "cell_type": "code",
   "execution_count": 145,
   "id": "a39233c9",
   "metadata": {},
   "outputs": [],
   "source": [
    "#индексы\n",
    "temp1 = submission"
   ]
  },
  {
   "cell_type": "code",
   "execution_count": 140,
   "id": "15a14b4d",
   "metadata": {},
   "outputs": [],
   "source": [
    "temp = submission"
   ]
  },
  {
   "cell_type": "markdown",
   "id": "efa02cfa",
   "metadata": {},
   "source": [
    "Постобработка"
   ]
  },
  {
   "cell_type": "code",
   "execution_count": 163,
   "id": "77398bdc",
   "metadata": {},
   "outputs": [],
   "source": [
    "predict_group_new = postpredict(logit_group, t_group, test_embed, y_train[\"Группа тем\"], lim=0.1)"
   ]
  },
  {
   "cell_type": "code",
   "execution_count": 164,
   "id": "1beb3b87",
   "metadata": {},
   "outputs": [],
   "source": [
    "predict_title_new = postpredict(logit_title, t_title, test_embed, y_train['Тема'], lim=0.1)"
   ]
  },
  {
   "cell_type": "code",
   "execution_count": 165,
   "id": "335aa187",
   "metadata": {},
   "outputs": [],
   "source": [
    "submission[\"Группа тем\"]=predict_group_new\n",
    "submission[\"Тема\"]=predict_title_new"
   ]
  },
  {
   "cell_type": "code",
   "execution_count": 166,
   "id": "b41908ef",
   "metadata": {},
   "outputs": [
    {
     "data": {
      "text/html": [
       "<div>\n",
       "<style scoped>\n",
       "    .dataframe tbody tr th:only-of-type {\n",
       "        vertical-align: middle;\n",
       "    }\n",
       "\n",
       "    .dataframe tbody tr th {\n",
       "        vertical-align: top;\n",
       "    }\n",
       "\n",
       "    .dataframe thead th {\n",
       "        text-align: right;\n",
       "    }\n",
       "</style>\n",
       "<table border=\"1\" class=\"dataframe\">\n",
       "  <thead>\n",
       "    <tr style=\"text-align: right;\">\n",
       "      <th></th>\n",
       "      <th>id</th>\n",
       "      <th>Группа тем</th>\n",
       "      <th>Тема</th>\n",
       "    </tr>\n",
       "  </thead>\n",
       "  <tbody>\n",
       "    <tr>\n",
       "      <th>0</th>\n",
       "      <td>0</td>\n",
       "      <td>Физическая культура и спорт</td>\n",
       "      <td>Строительство спортивной инфраструктуры</td>\n",
       "    </tr>\n",
       "    <tr>\n",
       "      <th>1</th>\n",
       "      <td>1</td>\n",
       "      <td>Благоустройство</td>\n",
       "      <td>Строительство школ, детских садов</td>\n",
       "    </tr>\n",
       "    <tr>\n",
       "      <th>2</th>\n",
       "      <td>2</td>\n",
       "      <td>Дороги</td>\n",
       "      <td>Благоустройство придомовых территорий</td>\n",
       "    </tr>\n",
       "    <tr>\n",
       "      <th>3</th>\n",
       "      <td>3</td>\n",
       "      <td>Социальное обслуживание и защита</td>\n",
       "      <td>Дети и многодетные семьи</td>\n",
       "    </tr>\n",
       "    <tr>\n",
       "      <th>4</th>\n",
       "      <td>4</td>\n",
       "      <td>Социальное обслуживание и защита</td>\n",
       "      <td>Улучшение жилищных условий</td>\n",
       "    </tr>\n",
       "    <tr>\n",
       "      <th>...</th>\n",
       "      <td>...</td>\n",
       "      <td>...</td>\n",
       "      <td>...</td>\n",
       "    </tr>\n",
       "    <tr>\n",
       "      <th>9738</th>\n",
       "      <td>9738</td>\n",
       "      <td>Благоустройство</td>\n",
       "      <td>Отсутствие фонарей освещения</td>\n",
       "    </tr>\n",
       "    <tr>\n",
       "      <th>9739</th>\n",
       "      <td>9739</td>\n",
       "      <td>Социальное обслуживание и защита</td>\n",
       "      <td>Задержка выплат гражданам</td>\n",
       "    </tr>\n",
       "    <tr>\n",
       "      <th>9740</th>\n",
       "      <td>9740</td>\n",
       "      <td>Дороги</td>\n",
       "      <td>Отсутствие холодной воды</td>\n",
       "    </tr>\n",
       "    <tr>\n",
       "      <th>9741</th>\n",
       "      <td>9741</td>\n",
       "      <td>Социальное обслуживание и защита</td>\n",
       "      <td>Оказание гос. соц. помощи</td>\n",
       "    </tr>\n",
       "    <tr>\n",
       "      <th>9742</th>\n",
       "      <td>9742</td>\n",
       "      <td>Образование</td>\n",
       "      <td>Хамство медицинских работников</td>\n",
       "    </tr>\n",
       "  </tbody>\n",
       "</table>\n",
       "<p>9743 rows × 3 columns</p>\n",
       "</div>"
      ],
      "text/plain": [
       "        id                        Группа тем  \\\n",
       "0        0       Физическая культура и спорт   \n",
       "1        1                   Благоустройство   \n",
       "2        2                            Дороги   \n",
       "3        3  Социальное обслуживание и защита   \n",
       "4        4  Социальное обслуживание и защита   \n",
       "...    ...                               ...   \n",
       "9738  9738                   Благоустройство   \n",
       "9739  9739  Социальное обслуживание и защита   \n",
       "9740  9740                            Дороги   \n",
       "9741  9741  Социальное обслуживание и защита   \n",
       "9742  9742                       Образование   \n",
       "\n",
       "                                         Тема  \n",
       "0     Строительство спортивной инфраструктуры  \n",
       "1           Строительство школ, детских садов  \n",
       "2       Благоустройство придомовых территорий  \n",
       "3                    Дети и многодетные семьи  \n",
       "4                  Улучшение жилищных условий  \n",
       "...                                       ...  \n",
       "9738             Отсутствие фонарей освещения  \n",
       "9739                Задержка выплат гражданам  \n",
       "9740                 Отсутствие холодной воды  \n",
       "9741                Оказание гос. соц. помощи  \n",
       "9742           Хамство медицинских работников  \n",
       "\n",
       "[9743 rows x 3 columns]"
      ]
     },
     "execution_count": 166,
     "metadata": {},
     "output_type": "execute_result"
    }
   ],
   "source": [
    "submission"
   ]
  },
  {
   "cell_type": "code",
   "execution_count": 167,
   "id": "436ecda4",
   "metadata": {},
   "outputs": [],
   "source": [
    "submission[[\"id\", \"Группа тем\", \"Тема\"]].to_csv(\"data/submission4.csv\", sep=';', index=False)"
   ]
  },
  {
   "cell_type": "code",
   "execution_count": null,
   "id": "e3abc01a",
   "metadata": {},
   "outputs": [],
   "source": []
  },
  {
   "cell_type": "code",
   "execution_count": null,
   "id": "3f8afdac",
   "metadata": {},
   "outputs": [],
   "source": []
  }
 ],
 "metadata": {
  "kernelspec": {
   "display_name": "Python 3 (ipykernel)",
   "language": "python",
   "name": "python3"
  },
  "language_info": {
   "codemirror_mode": {
    "name": "ipython",
    "version": 3
   },
   "file_extension": ".py",
   "mimetype": "text/x-python",
   "name": "python",
   "nbconvert_exporter": "python",
   "pygments_lexer": "ipython3",
   "version": "3.9.12"
  }
 },
 "nbformat": 4,
 "nbformat_minor": 5
}
